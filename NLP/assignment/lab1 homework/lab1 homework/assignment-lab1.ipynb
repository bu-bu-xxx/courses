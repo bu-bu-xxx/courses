{
 "cells": [
  {
   "cell_type": "markdown",
   "metadata": {},
   "source": [
    "# finetune"
   ]
  },
  {
   "cell_type": "markdown",
   "metadata": {},
   "source": [
    "we finetune the bert model and add a classification layer after last_hidden_state."
   ]
  },
  {
   "cell_type": "code",
   "execution_count": 15,
   "metadata": {},
   "outputs": [],
   "source": [
    "import transformers\n",
    "import torch\n",
    "import torch.nn as nn\n",
    "import torch.nn.functional as F\n",
    "import sys\n",
    "import os\n",
    "import numpy as np\n",
    "import pandas as pd\n",
    "import re"
   ]
  },
  {
   "cell_type": "markdown",
   "metadata": {},
   "source": [
    "## data"
   ]
  },
  {
   "cell_type": "code",
   "execution_count": 16,
   "metadata": {},
   "outputs": [],
   "source": [
    "# load data from tsv files\n",
    "data_dir = os.path.join(os.getcwd(), 'data')\n",
    "train_file = os.path.join(data_dir, 'train.tsv')\n",
    "test_file = os.path.join(data_dir, 'test.tsv')\n",
    "\n",
    "train_data = pd.read_csv(train_file, sep='\\t', keep_default_na=False)\n",
    "test_data = pd.read_csv(test_file, sep='\\t', keep_default_na=False)"
   ]
  },
  {
   "cell_type": "code",
   "execution_count": null,
   "metadata": {},
   "outputs": [],
   "source": [
    "# add a new column \"Sentence\" to the data\n",
    "# which stands for the whole sentence of the Phrase \n",
    "def add_attr_Sentence(dataframe: pd.DataFrame) -> pd.DataFrame:\n",
    "    dataframe['Sentence'] = dataframe['Phrase']\n",
    "    for i in range(1, len(dataframe)):\n",
    "        if dataframe[\"SentenceId\"].iloc[i] == dataframe[\"SentenceId\"].iloc[i-1]:\n",
    "            dataframe.loc[i, \"Sentence\"] = dataframe.loc[i-1, \"Sentence\"]\n",
    "    return dataframe\n",
    "\n",
    "# # train_data = add_attr_Sentence(train_data)\n",
    "# test_data = add_attr_Sentence(test_data)\n",
    "# # save the data to tsv files\n",
    "# # train_data.to_csv(train_file, sep='\\t', index=False)\n",
    "# test_data.to_csv(test_file, sep='\\t', index=False)\n",
    "    "
   ]
  },
  {
   "cell_type": "code",
   "execution_count": 19,
   "metadata": {},
   "outputs": [
    {
     "data": {
      "application/vnd.microsoft.datawrangler.viewer.v0+json": {
       "columns": [
        {
         "name": "index",
         "rawType": "int64",
         "type": "integer"
        },
        {
         "name": "PhraseId",
         "rawType": "int64",
         "type": "integer"
        },
        {
         "name": "SentenceId",
         "rawType": "int64",
         "type": "integer"
        },
        {
         "name": "Phrase",
         "rawType": "object",
         "type": "string"
        },
        {
         "name": "Sentence",
         "rawType": "object",
         "type": "string"
        }
       ],
       "conversionMethod": "pd.DataFrame",
       "ref": "ab319d23-1623-474c-8f48-d085b84d5ef7",
       "rows": [
        [
         "0",
         "156061",
         "8545",
         "An intermittently pleasing but mostly routine effort .",
         "An intermittently pleasing but mostly routine effort ."
        ],
        [
         "1",
         "156062",
         "8545",
         "An intermittently pleasing but mostly routine effort",
         "An intermittently pleasing but mostly routine effort ."
        ],
        [
         "2",
         "156063",
         "8545",
         "An",
         "An intermittently pleasing but mostly routine effort ."
        ],
        [
         "3",
         "156064",
         "8545",
         "intermittently pleasing but mostly routine effort",
         "An intermittently pleasing but mostly routine effort ."
        ],
        [
         "4",
         "156065",
         "8545",
         "intermittently pleasing but mostly routine",
         "An intermittently pleasing but mostly routine effort ."
        ]
       ],
       "shape": {
        "columns": 4,
        "rows": 5
       }
      },
      "text/html": [
       "<div>\n",
       "<style scoped>\n",
       "    .dataframe tbody tr th:only-of-type {\n",
       "        vertical-align: middle;\n",
       "    }\n",
       "\n",
       "    .dataframe tbody tr th {\n",
       "        vertical-align: top;\n",
       "    }\n",
       "\n",
       "    .dataframe thead th {\n",
       "        text-align: right;\n",
       "    }\n",
       "</style>\n",
       "<table border=\"1\" class=\"dataframe\">\n",
       "  <thead>\n",
       "    <tr style=\"text-align: right;\">\n",
       "      <th></th>\n",
       "      <th>PhraseId</th>\n",
       "      <th>SentenceId</th>\n",
       "      <th>Phrase</th>\n",
       "      <th>Sentence</th>\n",
       "    </tr>\n",
       "  </thead>\n",
       "  <tbody>\n",
       "    <tr>\n",
       "      <th>0</th>\n",
       "      <td>156061</td>\n",
       "      <td>8545</td>\n",
       "      <td>An intermittently pleasing but mostly routine ...</td>\n",
       "      <td>An intermittently pleasing but mostly routine ...</td>\n",
       "    </tr>\n",
       "    <tr>\n",
       "      <th>1</th>\n",
       "      <td>156062</td>\n",
       "      <td>8545</td>\n",
       "      <td>An intermittently pleasing but mostly routine ...</td>\n",
       "      <td>An intermittently pleasing but mostly routine ...</td>\n",
       "    </tr>\n",
       "    <tr>\n",
       "      <th>2</th>\n",
       "      <td>156063</td>\n",
       "      <td>8545</td>\n",
       "      <td>An</td>\n",
       "      <td>An intermittently pleasing but mostly routine ...</td>\n",
       "    </tr>\n",
       "    <tr>\n",
       "      <th>3</th>\n",
       "      <td>156064</td>\n",
       "      <td>8545</td>\n",
       "      <td>intermittently pleasing but mostly routine effort</td>\n",
       "      <td>An intermittently pleasing but mostly routine ...</td>\n",
       "    </tr>\n",
       "    <tr>\n",
       "      <th>4</th>\n",
       "      <td>156065</td>\n",
       "      <td>8545</td>\n",
       "      <td>intermittently pleasing but mostly routine</td>\n",
       "      <td>An intermittently pleasing but mostly routine ...</td>\n",
       "    </tr>\n",
       "  </tbody>\n",
       "</table>\n",
       "</div>"
      ],
      "text/plain": [
       "   PhraseId  SentenceId                                             Phrase  \\\n",
       "0    156061        8545  An intermittently pleasing but mostly routine ...   \n",
       "1    156062        8545  An intermittently pleasing but mostly routine ...   \n",
       "2    156063        8545                                                 An   \n",
       "3    156064        8545  intermittently pleasing but mostly routine effort   \n",
       "4    156065        8545         intermittently pleasing but mostly routine   \n",
       "\n",
       "                                            Sentence  \n",
       "0  An intermittently pleasing but mostly routine ...  \n",
       "1  An intermittently pleasing but mostly routine ...  \n",
       "2  An intermittently pleasing but mostly routine ...  \n",
       "3  An intermittently pleasing but mostly routine ...  \n",
       "4  An intermittently pleasing but mostly routine ...  "
      ]
     },
     "execution_count": 19,
     "metadata": {},
     "output_type": "execute_result"
    }
   ],
   "source": [
    "test_data.head()"
   ]
  },
  {
   "cell_type": "code",
   "execution_count": null,
   "metadata": {},
   "outputs": [
    {
     "data": {
      "text/plain": [
       "(52, 56)"
      ]
     },
     "execution_count": 4,
     "metadata": {},
     "output_type": "execute_result"
    }
   ],
   "source": [
    "# max length of each phrase tokens\n",
    "train_data['Phrase'].apply(lambda x: len(x.split())).max(), \\\n",
    "    test_data['Phrase'].apply(lambda x: len(x.split())).max()"
   ]
  },
  {
   "cell_type": "code",
   "execution_count": 4,
   "metadata": {},
   "outputs": [],
   "source": [
    "# create a DataLoader\n",
    "from torch.utils.data import Dataset, DataLoader\n",
    "\n",
    "\n",
    "class FinetuneDataset(Dataset):\n",
    "    def __init__(self, data, tokenizer, max_length=200):\n",
    "        self.data = data\n",
    "        self.tokenizer = tokenizer\n",
    "        self.max_length = max_length\n",
    "\n",
    "    def __len__(self):\n",
    "        return len(self.data)\n",
    "\n",
    "    def __getitem__(self, idx):\n",
    "        phrase = self.data.loc[idx, \"Phrase\"]\n",
    "        sentence = self.data.loc[idx, \"Sentence\"]\n",
    "        label = self.data.loc[idx, \"Sentiment\"]\n",
    "\n",
    "        inputs = self.tokenizer(\n",
    "            sentence,\n",
    "            phrase,\n",
    "            max_length=self.max_length,\n",
    "            padding=\"max_length\",\n",
    "            truncation=True,\n",
    "            add_special_tokens=True,\n",
    "            return_tensors=\"pt\",\n",
    "        )\n",
    "        input_ids = inputs[\"input_ids\"].squeeze()\n",
    "        attention_mask = inputs[\"attention_mask\"].squeeze()\n",
    "\n",
    "        return input_ids, attention_mask, label"
   ]
  },
  {
   "cell_type": "markdown",
   "metadata": {},
   "source": [
    "## training"
   ]
  },
  {
   "cell_type": "code",
   "execution_count": null,
   "metadata": {},
   "outputs": [
    {
     "name": "stderr",
     "output_type": "stream",
     "text": [
      "2025-02-17 08:56:29.226112: I tensorflow/core/util/port.cc:153] oneDNN custom operations are on. You may see slightly different numerical results due to floating-point round-off errors from different computation orders. To turn them off, set the environment variable `TF_ENABLE_ONEDNN_OPTS=0`.\n",
      "2025-02-17 08:56:29.238998: E external/local_xla/xla/stream_executor/cuda/cuda_fft.cc:477] Unable to register cuFFT factory: Attempting to register factory for plugin cuFFT when one has already been registered\n",
      "WARNING: All log messages before absl::InitializeLog() is called are written to STDERR\n",
      "E0000 00:00:1739782589.254860  647393 cuda_dnn.cc:8179] Unable to register cuDNN factory: Attempting to register factory for plugin cuDNN when one has already been registered\n",
      "E0000 00:00:1739782589.259783  647393 cuda_blas.cc:1418] Unable to register cuBLAS factory: Attempting to register factory for plugin cuBLAS when one has already been registered\n",
      "2025-02-17 08:56:29.277855: I tensorflow/core/platform/cpu_feature_guard.cc:210] This TensorFlow binary is optimized to use available CPU instructions in performance-critical operations.\n",
      "To enable the following instructions: AVX2 AVX_VNNI FMA, in other operations, rebuild TensorFlow with the appropriate compiler flags.\n"
     ]
    }
   ],
   "source": [
    "# download bert model\n",
    "dir = os.path.join(os.getcwd(), \"models\")\n",
    "bert_base_model = \"bert-base-uncased\"\n",
    "tokenizer = transformers.BertTokenizer.from_pretrained(\n",
    "    bert_base_model, cache_dir=dir\n",
    ")\n",
    "bert_model = transformers.BertModel.from_pretrained(\n",
    "    bert_base_model, cache_dir=dir\n",
    "    )"
   ]
  },
  {
   "cell_type": "code",
   "execution_count": 6,
   "metadata": {},
   "outputs": [],
   "source": [
    "from transformers import PreTrainedModel\n",
    "\n",
    "# add a classification layer after the bert model\n",
    "class BertClassifier(PreTrainedModel):\n",
    "    def __init__(self, bert_model, num_classes):\n",
    "        super(BertClassifier, self).__init__(bert_model.config)\n",
    "        self.bert = bert_model\n",
    "        self.classifier = nn.Linear(self.bert.config.hidden_size, num_classes)\n",
    "\n",
    "    def forward(self, input_ids, attention_mask):\n",
    "        outputs = self.bert(input_ids, attention_mask)\n",
    "        last_hidden_state = outputs[0]\n",
    "        cls_output = last_hidden_state[:, 0, :]\n",
    "        logits = self.classifier(cls_output)\n",
    "        return logits"
   ]
  },
  {
   "cell_type": "code",
   "execution_count": 7,
   "metadata": {},
   "outputs": [],
   "source": [
    "# training method\n",
    "from tqdm import tqdm\n",
    "from sklearn.metrics import accuracy_score, f1_score\n",
    "\n",
    "def train(model, train_loader, test_loader, optimizer, criterion, device, epoch_num=2,\n",
    "          test_only=False):\n",
    "    model.to(device)\n",
    "    model.train()\n",
    "    for epoch in range(epoch_num):\n",
    "        total_loss = 0\n",
    "        for input_ids, attention_mask, labels in tqdm(train_loader):\n",
    "            input_ids, attention_mask, labels = input_ids.to(device), attention_mask.to(device), labels.to(device)\n",
    "            optimizer.zero_grad()\n",
    "            logits = model(input_ids, attention_mask)\n",
    "            loss = criterion(logits, labels)\n",
    "            loss.backward()\n",
    "            optimizer.step()\n",
    "            total_loss += loss.item()\n",
    "            total_accuracy = accuracy_score(labels.cpu(), logits.argmax(dim=1).cpu())\n",
    "        print(f'Epoch {epoch + 1}/{epoch_num}, Loss: {total_loss:.4f}')\n",
    "        print(f'Training Accuracy: {total_accuracy:.4f}')\n",
    "        print(f'Training F1 Score: {f1_score(labels.cpu(), logits.argmax(dim=1).cpu(), average=\"macro\"):.4f}')\n",
    "        \n",
    "        # evaluate on the validation set\n",
    "        model.eval()\n",
    "        with torch.no_grad():\n",
    "            total_accuracy = 0\n",
    "            for input_ids, attention_mask, labels in tqdm(test_loader):\n",
    "                input_ids, attention_mask, labels = input_ids.to(device), attention_mask.to(device), labels.to(device)\n",
    "                logits = model(input_ids, attention_mask)\n",
    "                total_accuracy += accuracy_score(labels.cpu(), logits.argmax(dim=1).cpu())\n",
    "            print(f'Validation Accuracy: {total_accuracy/len(test_loader):.4f}')\n",
    "            print(f'Validation F1 Score: {f1_score(labels.cpu(), logits.argmax(dim=1).cpu(), average=\"macro\"):.4f}')\n",
    "    \n",
    "    "
   ]
  },
  {
   "cell_type": "code",
   "execution_count": null,
   "metadata": {},
   "outputs": [],
   "source": [
    "# split train_data into train and test\n",
    "from sklearn.model_selection import train_test_split\n",
    "\n",
    "trainset_data, testset_data = train_test_split(train_data, test_size=0.2, random_state=7777, shuffle=True)\n",
    "trainset_data = trainset_data.reset_index(drop=True)\n",
    "testset_data = testset_data.reset_index(drop=True)\n",
    "\n",
    "# create a DataLoader\n",
    "trainset_dataset = FinetuneDataset(trainset_data, tokenizer)\n",
    "testset_dataset = FinetuneDataset(testset_data, tokenizer)\n",
    "\n",
    "trainset_loader = DataLoader(trainset_dataset, batch_size=8, shuffle=True)\n",
    "testset_loader = DataLoader(testset_dataset, batch_size=8, shuffle=False)"
   ]
  },
  {
   "cell_type": "code",
   "execution_count": 9,
   "metadata": {},
   "outputs": [
    {
     "name": "stdout",
     "output_type": "stream",
     "text": [
      "['[CLS]', 'a', 'loud', ',', 'low', '-', 'budget', 'and', 'tired', 'formula', 'film', 'that', 'arrives', 'cloak', '##ed', 'in', 'the', 'eu', '##ph', '##emi', '##sm', '`', 'urban', 'drama', '.', \"'\", '[SEP]', 'loud', ',', 'low', '-', 'budget', 'and', 'tired', '[SEP]', '[PAD]', '[PAD]', '[PAD]', '[PAD]', '[PAD]', '[PAD]', '[PAD]', '[PAD]', '[PAD]', '[PAD]', '[PAD]', '[PAD]', '[PAD]', '[PAD]', '[PAD]', '[PAD]', '[PAD]', '[PAD]', '[PAD]', '[PAD]', '[PAD]', '[PAD]', '[PAD]', '[PAD]', '[PAD]', '[PAD]', '[PAD]', '[PAD]', '[PAD]', '[PAD]', '[PAD]', '[PAD]', '[PAD]', '[PAD]', '[PAD]', '[PAD]', '[PAD]', '[PAD]', '[PAD]', '[PAD]', '[PAD]', '[PAD]', '[PAD]', '[PAD]', '[PAD]', '[PAD]', '[PAD]', '[PAD]', '[PAD]', '[PAD]', '[PAD]', '[PAD]', '[PAD]', '[PAD]', '[PAD]', '[PAD]', '[PAD]', '[PAD]', '[PAD]', '[PAD]', '[PAD]', '[PAD]', '[PAD]', '[PAD]', '[PAD]', '[PAD]', '[PAD]', '[PAD]', '[PAD]', '[PAD]', '[PAD]', '[PAD]', '[PAD]', '[PAD]', '[PAD]', '[PAD]', '[PAD]', '[PAD]', '[PAD]', '[PAD]', '[PAD]', '[PAD]', '[PAD]', '[PAD]', '[PAD]', '[PAD]', '[PAD]', '[PAD]', '[PAD]', '[PAD]', '[PAD]', '[PAD]', '[PAD]', '[PAD]', '[PAD]', '[PAD]', '[PAD]', '[PAD]', '[PAD]', '[PAD]', '[PAD]', '[PAD]', '[PAD]', '[PAD]', '[PAD]', '[PAD]', '[PAD]', '[PAD]', '[PAD]', '[PAD]', '[PAD]', '[PAD]', '[PAD]', '[PAD]', '[PAD]', '[PAD]', '[PAD]', '[PAD]', '[PAD]', '[PAD]', '[PAD]', '[PAD]', '[PAD]', '[PAD]', '[PAD]', '[PAD]', '[PAD]', '[PAD]', '[PAD]', '[PAD]', '[PAD]', '[PAD]', '[PAD]', '[PAD]', '[PAD]', '[PAD]', '[PAD]', '[PAD]', '[PAD]', '[PAD]', '[PAD]', '[PAD]', '[PAD]', '[PAD]', '[PAD]', '[PAD]', '[PAD]', '[PAD]', '[PAD]', '[PAD]', '[PAD]', '[PAD]', '[PAD]', '[PAD]', '[PAD]', '[PAD]', '[PAD]', '[PAD]', '[PAD]', '[PAD]', '[PAD]', '[PAD]', '[PAD]', '[PAD]', '[PAD]']\n"
     ]
    }
   ],
   "source": [
    "# example of the dataset\n",
    "ids = trainset_dataset[0][0]\n",
    "tokens = tokenizer.convert_ids_to_tokens(ids.numpy().tolist())\n",
    "print(tokens)\n"
   ]
  },
  {
   "cell_type": "code",
   "execution_count": null,
   "metadata": {},
   "outputs": [
    {
     "name": "stderr",
     "output_type": "stream",
     "text": [
      " 47%|████▋     | 7391/15606 [30:45<33:46,  4.05it/s]  "
     ]
    }
   ],
   "source": [
    "model = BertClassifier(bert_model, num_classes=5)\n",
    "\n",
    "# apply lora to accelerate the fintune training\n",
    "\n",
    "optimizer = torch.optim.AdamW([\n",
    "    {'params': model.bert.parameters(), 'lr': 5e-6},\n",
    "    {'params': model.classifier.parameters(), 'lr': 5e-5}\n",
    "])\n",
    "criterion = nn.CrossEntropyLoss()\n",
    "device = torch.device('cuda' if torch.cuda.is_available() else 'cpu')\n",
    "epoch_num = 1\n",
    "\n",
    "train(model, trainset_loader, testset_loader, optimizer, criterion, device, epoch_num)\n"
   ]
  },
  {
   "cell_type": "markdown",
   "metadata": {},
   "source": [
    "## save and upload"
   ]
  },
  {
   "cell_type": "code",
   "execution_count": 26,
   "metadata": {},
   "outputs": [
    {
     "data": {
      "text/plain": [
       "('/notebooks/learningFile/courses/NLP/assignment/lab1 homework/lab1 homework/models/lab1_finetuned_bert/tokenizer_config.json',\n",
       " '/notebooks/learningFile/courses/NLP/assignment/lab1 homework/lab1 homework/models/lab1_finetuned_bert/special_tokens_map.json',\n",
       " '/notebooks/learningFile/courses/NLP/assignment/lab1 homework/lab1 homework/models/lab1_finetuned_bert/vocab.txt',\n",
       " '/notebooks/learningFile/courses/NLP/assignment/lab1 homework/lab1 homework/models/lab1_finetuned_bert/added_tokens.json')"
      ]
     },
     "execution_count": 26,
     "metadata": {},
     "output_type": "execute_result"
    }
   ],
   "source": [
    "# save the model\n",
    "save_dir = os.path.join(os.getcwd(), 'models', 'lab1_finetuned_bert')\n",
    "os.makedirs(save_dir, exist_ok=True)\n",
    "model.save_pretrained(save_dir)\n",
    "tokenizer.save_pretrained(save_dir)"
   ]
  },
  {
   "cell_type": "markdown",
   "metadata": {},
   "source": [
    "# CoT"
   ]
  },
  {
   "cell_type": "markdown",
   "metadata": {},
   "source": [
    "we call the deepseek api, and set the appropriate prompt to do the sentiment analysis.\n",
    "\n",
    "we compare the accuracy with 2 kinds of system prompt.\n",
    "\n",
    "**user prompt:**\n",
    "1. **zero-shot prompt**:(we provide no example and ask the problems directly)\n",
    "> You are a sentiment analysis expert.\n",
    "> Your task is to analysis classify movie review phrase which is truncated from a whole movie review sentence. please classify the sentiment of phrase into one of five sentiment categories: negative (0), somewhat negative (1), neutral (2), somewhat positive (3), or positive (4). You should carefully consider the intensity and context of the phrases to determine the most appropriate label.Please show your chain of thinking step by step, and print the result at the end of output with format: Label: \\\\label{{number}}, Sentiment: \\\\sentiment{{text}}.\n",
    "\n",
    "2. **few-shot prompt**:(we provide some examples and ask the problems)\n",
    "\n",
    "> Task: Classify the sentiment of the truncated phrase (not the full review) into one of five categories:\n",
    "> 0: Negative\n",
    "> 1: Somewhat Negative\n",
    "> 2: Neutral\n",
    "> 3: Somewhat Positive\n",
    "> 4: Positive\n",
    "> \n",
    "> Format:\n",
    "> \\\\label{{number}}, Sentiment: \\\\sentiment{{text}}\n",
    "> \n",
    "> Examples:\n",
    "> \n",
    "> Review: \"The movie was a complete disaster. The plot was incoherent, and the acting was terrible.\"\n",
    "> Truncated Phrase: \"complete disaster\"\n",
    "> Output:\n",
    "> \\\\label{0}, Sentiment: \\\\sentiment{negative}\n",
    "> \n",
    "> Review: \"The film had a few good moments, but overall it was a bit dull.\"\n",
    "> Truncated Phrase: \"a bit dull\"\n",
    "> Output:\n",
    "> \\\\label{1}, Sentiment: \\\\sentiment{somewhat negative}\n",
    "> \n",
    "> Review: \"The cinematography was decent, but the story lacked depth.\"\n",
    "> Truncated Phrase: \"decent\"\n",
    "> Output:\n",
    "> \\\\label{2}, Sentiment: \\\\sentiment{neutral}\n",
    "> \n",
    "> Review: \"The acting was surprisingly good, though the script could have been better.\"\n",
    "> Truncated Phrase: \"surprisingly good\"\n",
    "> Output:\n",
    "> \\\\label{3}, Sentiment: \\\\sentiment{somewhat positive}\n",
    "> \n",
    "> Review: \"This movie was an absolute masterpiece. The performances were outstanding.\"\n",
    "> Truncated Phrase: \"absolute masterpiece\"\n",
    "> Output:\n",
    "> \\\\label{4}, Sentiment: \\\\sentiment{positive}\n",
    "> \n",
    "> Instructions:\n",
    "> Focus only on the truncated phrase, not the full review.\n",
    "> Ignore context outside the phrase (e.g., sarcasm, hyperbole, or mixed sentiments).\n",
    "> Use the labels and sentiment text exactly as formatted above.\n",
    "> Think step by step, and answer based on your thinking.\n",
    "\n"
   ]
  },
  {
   "cell_type": "code",
   "execution_count": null,
   "metadata": {},
   "outputs": [],
   "source": [
    "# add code/ to sys.path\n",
    "sys.path.append(os.path.join(os.getcwd(), 'code'))\n",
    "\n",
    "# load data from tsv files\n",
    "data_dir = os.path.join(os.getcwd(), 'data')\n",
    "train_file = os.path.join(data_dir, 'train_cp.tsv')\n",
    "test_file = os.path.join(data_dir, 'test.tsv')\n",
    "\n",
    "train_data = pd.read_csv(train_file, sep='\\t', keep_default_na=False)\n",
    "test_data = pd.read_csv(test_file, sep='\\t', keep_default_na=False)"
   ]
  },
  {
   "cell_type": "code",
   "execution_count": 3,
   "metadata": {},
   "outputs": [],
   "source": [
    "# zero shot response\n",
    "from gemini_call_api2 import GeminiAPI\n",
    "\n",
    "deepseek_key_file = os.path.join(os.getcwd(), 'api_key', 'deepseek.api.key')\n",
    "api_key = open(deepseek_key_file, 'r').read()\n",
    "client = GeminiAPI(api_key)"
   ]
  },
  {
   "cell_type": "code",
   "execution_count": 4,
   "metadata": {},
   "outputs": [],
   "source": [
    "# generate the query\n",
    "sys_msg = r\"You are a sentiment analysis expert.\"\n",
    "phrases = test_data['Phrase'].tolist()\n",
    "# true_labels = test_data['Sentiment'].tolist()\n",
    "user_msgs = phrases.copy()\n",
    "for i in range(len(user_msgs)):\n",
    "    user_msgs[i] = f\"Your task is to classify movie review phrase which is truncated from a whole movie review sentence. please classify the sentiment of phrase into one of five sentiment categories: negative (0), somewhat negative (1), neutral (2), somewhat positive (3), or positive (4). You should carefully consider the intensity and context of the phrases to determine the most appropriate label.Please show your chain of thinking step by step, and print the result at the end of output with format: Label: \\\\label{{number}}, Sentiment: \\\\sentiment{{text}}.\" + \\\n",
    "    f\"\\n The whole movie review sentence is: \\\"{phrases[0]}\\\"\" + \\\n",
    "    f\"\\n The phrase to be classified is: \\\"{phrases[i]}\\\"\"\n",
    "sys_msgs = [sys_msg] * len(user_msgs)\n"
   ]
  },
  {
   "cell_type": "code",
   "execution_count": 5,
   "metadata": {},
   "outputs": [],
   "source": [
    "# call the llm api, and save the responses\n",
    "import re\n",
    "from save_labels import Save\n",
    "\n",
    "def seperate(responses):\n",
    "    # seperate the label from the response\n",
    "    labels = []\n",
    "    for response in responses:\n",
    "        pattern = r'\\\\label\\{(\\d)\\}'\n",
    "        match = re.search(pattern, response)\n",
    "        if match:\n",
    "            label = match.group(1)\n",
    "        else:\n",
    "            label = -1\n",
    "        labels.append(int(label))\n",
    "    return labels, responses\n",
    "\n",
    "def save_labels(labels, col_name, path, df):\n",
    "    save = Save(df=df)\n",
    "    save.add_labels(col_name, labels)\n",
    "    save.save_df(path)\n"
   ]
  },
  {
   "cell_type": "code",
   "execution_count": 12,
   "metadata": {},
   "outputs": [
    {
     "name": "stderr",
     "output_type": "stream",
     "text": [
      " 35%|███▍      | 46/133 [8:20:41<14:18:29, 592.07s/it]"
     ]
    }
   ],
   "source": [
    "# test\n",
    "# split the user_msgs and sys_msgs into batches\n",
    "from tqdm import tqdm\n",
    "\n",
    "responses = []\n",
    "batch_size = 500\n",
    "for i in tqdm(range(0, len(test_data), batch_size)):\n",
    "    responses += await client.batch_chat(\n",
    "        user_msgs[i : i + batch_size],\n",
    "        sys_msgs[i : i + batch_size],\n",
    "        max_concurrency=50,\n",
    "        model=\"deepseek-v3\",\n",
    "        # model='deepseek-r1'\n",
    "        # model='deepseek-reasoner'\n",
    "    )\n",
    "\n",
    "responses.__len__()"
   ]
  },
  {
   "cell_type": "markdown",
   "metadata": {},
   "source": [
    "# upload answer"
   ]
  },
  {
   "cell_type": "code",
   "execution_count": 28,
   "metadata": {},
   "outputs": [
    {
     "data": {
      "application/vnd.microsoft.datawrangler.viewer.v0+json": {
       "columns": [
        {
         "name": "index",
         "rawType": "int64",
         "type": "integer"
        },
        {
         "name": "PhraseId",
         "rawType": "int64",
         "type": "integer"
        },
        {
         "name": "SentenceId",
         "rawType": "int64",
         "type": "integer"
        },
        {
         "name": "Phrase",
         "rawType": "object",
         "type": "string"
        },
        {
         "name": "Sentence",
         "rawType": "object",
         "type": "string"
        },
        {
         "name": "Label2",
         "rawType": "int64",
         "type": "integer"
        },
        {
         "name": "Label3",
         "rawType": "int64",
         "type": "integer"
        },
        {
         "name": "Label5",
         "rawType": "int64",
         "type": "integer"
        },
        {
         "name": "Label4",
         "rawType": "int64",
         "type": "integer"
        }
       ],
       "conversionMethod": "pd.DataFrame",
       "ref": "eba61016-173c-4ca7-bb13-a172ab30a645",
       "rows": [
        [
         "0",
         "156061",
         "8545",
         "An intermittently pleasing but mostly routine effort .",
         "An intermittently pleasing but mostly routine effort .",
         "1",
         "1",
         "1",
         "1"
        ],
        [
         "1",
         "156062",
         "8545",
         "An intermittently pleasing but mostly routine effort",
         "An intermittently pleasing but mostly routine effort .",
         "1",
         "1",
         "1",
         "2"
        ],
        [
         "2",
         "156063",
         "8545",
         "An",
         "An intermittently pleasing but mostly routine effort .",
         "2",
         "2",
         "2",
         "2"
        ],
        [
         "3",
         "156064",
         "8545",
         "intermittently pleasing but mostly routine effort",
         "An intermittently pleasing but mostly routine effort .",
         "1",
         "1",
         "1",
         "1"
        ],
        [
         "4",
         "156065",
         "8545",
         "intermittently pleasing but mostly routine",
         "An intermittently pleasing but mostly routine effort .",
         "1",
         "1",
         "1",
         "1"
        ]
       ],
       "shape": {
        "columns": 8,
        "rows": 5
       }
      },
      "text/html": [
       "<div>\n",
       "<style scoped>\n",
       "    .dataframe tbody tr th:only-of-type {\n",
       "        vertical-align: middle;\n",
       "    }\n",
       "\n",
       "    .dataframe tbody tr th {\n",
       "        vertical-align: top;\n",
       "    }\n",
       "\n",
       "    .dataframe thead th {\n",
       "        text-align: right;\n",
       "    }\n",
       "</style>\n",
       "<table border=\"1\" class=\"dataframe\">\n",
       "  <thead>\n",
       "    <tr style=\"text-align: right;\">\n",
       "      <th></th>\n",
       "      <th>PhraseId</th>\n",
       "      <th>SentenceId</th>\n",
       "      <th>Phrase</th>\n",
       "      <th>Sentence</th>\n",
       "      <th>Label2</th>\n",
       "      <th>Label3</th>\n",
       "      <th>Label5</th>\n",
       "      <th>Label4</th>\n",
       "    </tr>\n",
       "  </thead>\n",
       "  <tbody>\n",
       "    <tr>\n",
       "      <th>0</th>\n",
       "      <td>156061</td>\n",
       "      <td>8545</td>\n",
       "      <td>An intermittently pleasing but mostly routine ...</td>\n",
       "      <td>An intermittently pleasing but mostly routine ...</td>\n",
       "      <td>1</td>\n",
       "      <td>1</td>\n",
       "      <td>1</td>\n",
       "      <td>1</td>\n",
       "    </tr>\n",
       "    <tr>\n",
       "      <th>1</th>\n",
       "      <td>156062</td>\n",
       "      <td>8545</td>\n",
       "      <td>An intermittently pleasing but mostly routine ...</td>\n",
       "      <td>An intermittently pleasing but mostly routine ...</td>\n",
       "      <td>1</td>\n",
       "      <td>1</td>\n",
       "      <td>1</td>\n",
       "      <td>2</td>\n",
       "    </tr>\n",
       "    <tr>\n",
       "      <th>2</th>\n",
       "      <td>156063</td>\n",
       "      <td>8545</td>\n",
       "      <td>An</td>\n",
       "      <td>An intermittently pleasing but mostly routine ...</td>\n",
       "      <td>2</td>\n",
       "      <td>2</td>\n",
       "      <td>2</td>\n",
       "      <td>2</td>\n",
       "    </tr>\n",
       "    <tr>\n",
       "      <th>3</th>\n",
       "      <td>156064</td>\n",
       "      <td>8545</td>\n",
       "      <td>intermittently pleasing but mostly routine effort</td>\n",
       "      <td>An intermittently pleasing but mostly routine ...</td>\n",
       "      <td>1</td>\n",
       "      <td>1</td>\n",
       "      <td>1</td>\n",
       "      <td>1</td>\n",
       "    </tr>\n",
       "    <tr>\n",
       "      <th>4</th>\n",
       "      <td>156065</td>\n",
       "      <td>8545</td>\n",
       "      <td>intermittently pleasing but mostly routine</td>\n",
       "      <td>An intermittently pleasing but mostly routine ...</td>\n",
       "      <td>1</td>\n",
       "      <td>1</td>\n",
       "      <td>1</td>\n",
       "      <td>1</td>\n",
       "    </tr>\n",
       "  </tbody>\n",
       "</table>\n",
       "</div>"
      ],
      "text/plain": [
       "   PhraseId  SentenceId                                             Phrase  \\\n",
       "0    156061        8545  An intermittently pleasing but mostly routine ...   \n",
       "1    156062        8545  An intermittently pleasing but mostly routine ...   \n",
       "2    156063        8545                                                 An   \n",
       "3    156064        8545  intermittently pleasing but mostly routine effort   \n",
       "4    156065        8545         intermittently pleasing but mostly routine   \n",
       "\n",
       "                                            Sentence  Label2  Label3  Label5  \\\n",
       "0  An intermittently pleasing but mostly routine ...       1       1       1   \n",
       "1  An intermittently pleasing but mostly routine ...       1       1       1   \n",
       "2  An intermittently pleasing but mostly routine ...       2       2       2   \n",
       "3  An intermittently pleasing but mostly routine ...       1       1       1   \n",
       "4  An intermittently pleasing but mostly routine ...       1       1       1   \n",
       "\n",
       "   Label4  \n",
       "0       1  \n",
       "1       2  \n",
       "2       2  \n",
       "3       1  \n",
       "4       1  "
      ]
     },
     "execution_count": 28,
     "metadata": {},
     "output_type": "execute_result"
    }
   ],
   "source": [
    "test_data = pd.read_csv(test_file, keep_default_na=False, sep='\\t')\n",
    "test_data.head()"
   ]
  },
  {
   "cell_type": "code",
   "execution_count": 31,
   "metadata": {},
   "outputs": [
    {
     "data": {
      "text/plain": [
       "Label3\n",
       " 2    26691\n",
       " 0    11124\n",
       " 4    10548\n",
       " 1    10505\n",
       " 3     7384\n",
       "-1       40\n",
       "Name: count, dtype: int64"
      ]
     },
     "execution_count": 31,
     "metadata": {},
     "output_type": "execute_result"
    }
   ],
   "source": [
    "test_data['Label3'].value_counts()"
   ]
  },
  {
   "cell_type": "code",
   "execution_count": 47,
   "metadata": {},
   "outputs": [],
   "source": [
    "# generate submit.csv\n",
    "# keep columns: PhraseId, Sentiment\n",
    "# compute the average value of sentiment\n",
    "\n",
    "def average(col_list:list[int]):\n",
    "    submit_file = os.path.join(data_dir, 'submit6.csv')\n",
    "    submit_data = test_data[['PhraseId'] + col_list].copy()\n",
    "    # compute the average value, except -1\n",
    "    for i in range(len(submit_data)):\n",
    "        sum = 0\n",
    "        count = 0\n",
    "        for col in col_list:\n",
    "            if submit_data.loc[i, col] != -1:\n",
    "                sum += submit_data.loc[i, col]\n",
    "                count += 1\n",
    "        if count == 0:\n",
    "            submit_data.loc[i, 'Sentiment'] = -1\n",
    "        else:\n",
    "            submit_data.loc[i, 'Sentiment'] = round(sum / count)\n",
    "    \n",
    "    # replace sentiment values -1 with 2\n",
    "    submit_data['Sentiment'].replace(-1, 2, inplace=True)\n",
    "    # keep columns: PhraseId, Sentiment\n",
    "    submit_data = submit_data[['PhraseId', 'Sentiment']]\n",
    "    # make Sentiment values to int\n",
    "    submit_data['Sentiment'] = submit_data['Sentiment'].astype(int)\n",
    "    submit_data.to_csv(submit_file, index=False)\n",
    "    return submit_data"
   ]
  }
 ],
 "metadata": {
  "kernelspec": {
   "display_name": "Python 3",
   "language": "python",
   "name": "python3"
  },
  "language_info": {
   "codemirror_mode": {
    "name": "ipython",
    "version": 3
   },
   "file_extension": ".py",
   "mimetype": "text/x-python",
   "name": "python",
   "nbconvert_exporter": "python",
   "pygments_lexer": "ipython3",
   "version": "3.11.0"
  }
 },
 "nbformat": 4,
 "nbformat_minor": 2
}
