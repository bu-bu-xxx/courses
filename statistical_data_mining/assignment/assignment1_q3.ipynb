{
 "cells": [
  {
   "cell_type": "code",
   "execution_count": 29,
   "metadata": {},
   "outputs": [],
   "source": [
    "# (a)\n",
    "import numpy as np\n",
    "np.random.seed(123)\n",
    "\n",
    "def getData(n):\n",
    "    # annotation: the wrong version\n",
    "    mu = np.array([-2.0, 3.0]).reshape((2, 1)) # mu = np.array([-2.0, 3.0])\n",
    "    A = np.array([[1.0, 2.0], [3.0, 4.0]])\n",
    "    X = np.random.normal(size= n*2)\n",
    "    X = X.reshape((2, n))\n",
    "    X = A.dot(X) + mu # X = (X + mu).dot(A)\n",
    "    return X\n"
   ]
  },
  {
   "cell_type": "code",
   "execution_count": 30,
   "metadata": {},
   "outputs": [
    {
     "data": {
      "text/plain": [
       "array([[-4.44340291, -1.19207249,  1.26575775, -4.78409871, -3.46656417,\n",
       "        -1.21726601, -0.01481908,  1.94465955,  1.27404405, -2.0943676 ],\n",
       "       [-2.97243642,  5.61320046,  9.814494  , -4.07449213, -0.51172859,\n",
       "         6.21690451,  4.5436826 , 10.46040647, 10.81402437,  1.94452439]])"
      ]
     },
     "execution_count": 30,
     "metadata": {},
     "output_type": "execute_result"
    }
   ],
   "source": [
    "# (b)\n",
    "np.random.seed(123)\n",
    "X = getData(10)\n",
    "X"
   ]
  },
  {
   "cell_type": "code",
   "execution_count": null,
   "metadata": {},
   "outputs": [
    {
     "name": "stdout",
     "output_type": "stream",
     "text": [
      "mu_hat: [-1.9695  3.0706]\n",
      "sigma_hat:\n",
      " [[ 5.0391 11.0854]\n",
      " [11.0854 25.1818]]\n"
     ]
    }
   ],
   "source": [
    "# (c)\n",
    "np.random.seed(123)\n",
    "X = getData(10000)\n",
    "mu_hat = np.mean(X, axis=1)\n",
    "sigma_hat = 1/(10000-1) * (\n",
    "    (X - mu_hat.reshape((2, 1))) @ \n",
    "    (X - mu_hat.reshape((2, 1))).T\n",
    ")\n",
    "print(\"mu_hat:\", np.round(mu_hat, 4))\n",
    "print(\"sigma_hat:\\n\", np.round(sigma_hat, 4))"
   ]
  },
  {
   "cell_type": "code",
   "execution_count": 81,
   "metadata": {},
   "outputs": [
    {
     "data": {
      "text/plain": [
       "array([105.5731,  91.1879,  78.3936])"
      ]
     },
     "execution_count": 81,
     "metadata": {},
     "output_type": "execute_result"
    }
   ],
   "source": [
    "# (d)\n",
    "import torch\n",
    "np.random.seed(123)\n",
    "n = 1000\n",
    "X = getData(n)\n",
    "X = torch.tensor(X).T # dim: n x 2\n",
    "\n",
    "X = X.unsqueeze(axis=-1) # dim: n x 2 x 1\n",
    "X = X.permute(0, 2, 1) # dim: n x 1 x 2\n",
    "X = X.repeat(1, n, 1) # dim: n x n x 2\n",
    "\n",
    "U = X.clone().permute(1, 0, 2) # dim: n x n x 2\n",
    "K = np.exp(-torch.norm(X - U, dim=-1)**2) # dim: n x n\n",
    "K = K.numpy()\n",
    "eigenvalues = np.linalg.eigh(K).eigenvalues\n",
    "eigenvalues.sort()\n",
    "eigenvalues = np.round(eigenvalues[::-1][:3], 4)\n",
    "eigenvalues"
   ]
  }
 ],
 "metadata": {
  "kernelspec": {
   "display_name": "Python 3",
   "language": "python",
   "name": "python3"
  },
  "language_info": {
   "codemirror_mode": {
    "name": "ipython",
    "version": 3
   },
   "file_extension": ".py",
   "mimetype": "text/x-python",
   "name": "python",
   "nbconvert_exporter": "python",
   "pygments_lexer": "ipython3",
   "version": "3.10.12"
  }
 },
 "nbformat": 4,
 "nbformat_minor": 2
}
