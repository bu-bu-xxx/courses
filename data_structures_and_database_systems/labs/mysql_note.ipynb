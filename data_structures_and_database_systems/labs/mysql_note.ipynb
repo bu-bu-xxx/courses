{
 "cells": [
  {
   "cell_type": "markdown",
   "metadata": {},
   "source": [
    "```shell\n",
    "ssh 24112456g@csdoor.comp.polyu.edu.hk;\n",
    "apollo;\n",
    "source /compsoft/app/oracle/dbms.bashrc;\n",
    "sqlplus;\n",
    "\"24112456g\"@dbms\n",
    "\n",
    "Username: \"24112456g\"@dbms\n",
    "\n",
    "Password: pagsnntf\n",
    "```\n",
    "\n",
    "\n",
    "import data   rename `Product`\n",
    "\n",
    "```sql\n",
    "drop table A;\n",
    "insert into A values (1, 'd');\n",
    "\n",
    "select * from A;\n",
    "delete from A;  -- delete all rows in A\n",
    "\n",
    "drop from A where blablabla;\n",
    "\n",
    "\n",
    "\n",
    "```\n",
    "\n",
    "\n"
   ]
  },
  {
   "cell_type": "code",
   "execution_count": null,
   "metadata": {
    "vscode": {
     "languageId": "sql"
    }
   },
   "outputs": [],
   "source": [
    "\n",
    "Select table_name from user_tables;\n",
    "\n",
    "Select table_name from all_tables;\n",
    "\n"
   ]
  }
 ],
 "metadata": {
  "language_info": {
   "name": "python"
  }
 },
 "nbformat": 4,
 "nbformat_minor": 2
}
