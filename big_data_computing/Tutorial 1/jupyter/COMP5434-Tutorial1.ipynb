{
 "cells": [
  {
   "cell_type": "markdown",
   "id": "ef216bd1-d64a-4ee9-af34-4f14b7268ac5",
   "metadata": {},
   "source": [
    "# COMP5434 - Tutorial 1: Python and Jupyter"
   ]
  },
  {
   "cell_type": "markdown",
   "id": "4b46d1b2-6aa7-48fb-a92c-97e6143cb2d0",
   "metadata": {},
   "source": [
    "## Jupyter Demo"
   ]
  },
  {
   "cell_type": "markdown",
   "id": "b3b912d7-e668-4e09-b477-5b564069400a",
   "metadata": {},
   "source": [
    "The next cell will print a message \"Hello World\"."
   ]
  },
  {
   "cell_type": "code",
   "execution_count": 1,
   "id": "78790d54-b251-4adb-b9f4-0da2ce1ba5a6",
   "metadata": {},
   "outputs": [
    {
     "name": "stdout",
     "output_type": "stream",
     "text": [
      "Hello World\n"
     ]
    }
   ],
   "source": [
    "print(\"Hello World\")"
   ]
  },
  {
   "cell_type": "markdown",
   "id": "292921af-d6c2-4165-ab50-664a0a3682b6",
   "metadata": {},
   "source": [
    "The next cell will display the current time."
   ]
  },
  {
   "cell_type": "code",
   "execution_count": null,
   "id": "59ab3bfd-6be1-4a67-a213-107b0ab292a8",
   "metadata": {},
   "outputs": [],
   "source": [
    "import time # import the library about time so that Python can use it in the following code\n",
    "current_time = time.ctime() # call a function ctime() in time library and store the output in a variable called current_time\n",
    "print(current_time) # print the current time"
   ]
  },
  {
   "cell_type": "markdown",
   "id": "812d47e5-020a-48c3-9044-805c549f3729",
   "metadata": {},
   "source": [
    "The data from cells which has been run can be reused in other cells. For example, the next cell can reuse the variable \"current_time\" which is in the last cell.\n",
    "\n",
    "Note: If you restart the notebook, the generated data will be cleared."
   ]
  },
  {
   "cell_type": "code",
   "execution_count": null,
   "id": "b7bff6ce-8606-4828-8121-7739a5bb81cd",
   "metadata": {},
   "outputs": [],
   "source": [
    "print(current_time)"
   ]
  },
  {
   "cell_type": "markdown",
   "id": "5aeeea50-2b89-4ce0-a882-8866f8092c13",
   "metadata": {},
   "source": [
    "## Data Cluster Demo"
   ]
  },
  {
   "cell_type": "markdown",
   "id": "2343bb0f-e9e3-49fe-a2bd-3c6d27d9dbbd",
   "metadata": {},
   "source": [
    "In this demo, we will use the clutering methods provided by a library scikit-learn (called sklearn in python), to generate clusters for the given data points, and compare the difference between k-means and DBSCAN."
   ]
  },
  {
   "cell_type": "markdown",
   "id": "756990c9-565f-4fef-9af5-6d825deeb233",
   "metadata": {},
   "source": [
    "### Import Libraries"
   ]
  },
  {
   "cell_type": "code",
   "execution_count": null,
   "id": "d58283a5-8cde-4a02-b5be-219f2b1947c1",
   "metadata": {},
   "outputs": [],
   "source": [
    "import matplotlib.pyplot as plt # import the sub-library pyplot in the library matplotlib, and assign an alias plt.\n",
    "import numpy as np # import a library called numpy, and assign an alias np.\n",
    "from sklearn.datasets import make_blobs, make_moons # import two functions make_blobs and make_moons from a sub-library datasets in library sklearn"
   ]
  },
  {
   "cell_type": "markdown",
   "id": "e5df7c7f-cbd2-4e8c-8b8c-d02a783f3a7c",
   "metadata": {},
   "source": [
    "### Dataset Generation"
   ]
  },
  {
   "cell_type": "markdown",
   "id": "20565331-9e96-47ac-a495-8fe31cf83d1d",
   "metadata": {},
   "source": [
    "#### Generate data points in blobs"
   ]
  },
  {
   "cell_type": "code",
   "execution_count": null,
   "id": "4df4b9df-32d4-4d56-b4ee-f825a87e8fd1",
   "metadata": {},
   "outputs": [],
   "source": [
    "samples = 300 # the number of data points"
   ]
  },
  {
   "cell_type": "code",
   "execution_count": null,
   "id": "d784aa6b-7d59-443c-8edc-133591721857",
   "metadata": {},
   "outputs": [],
   "source": [
    "# make_blobs will generate \"n_samples\" data points with random seed \"random_state\". The data points will in blob shape.\n",
    "# It returns two values, x includes the data points, and y_true includes the cluster each data point belongs to\n",
    "x_blob, y_blob_true = make_blobs(n_samples=samples, random_state=1) \n",
    "plt.scatter(x_blob[:, 0], x_blob[:, 1]) "
   ]
  },
  {
   "cell_type": "markdown",
   "id": "add8b0c3-de6c-41a8-a2b4-68972f171c1d",
   "metadata": {},
   "source": [
    "#### Generate data points in moons"
   ]
  },
  {
   "cell_type": "code",
   "execution_count": null,
   "id": "f8565e9e-3066-487c-b3ba-244712868f38",
   "metadata": {},
   "outputs": [],
   "source": [
    "# make_moons will generate \"n_samples\" data points with random seed \"random_state\". The data points will in moon shape.\n",
    "x_moon, y_moon_true = make_moons(n_samples=samples, random_state=1)\n",
    "plt.scatter(x_moon[:, 0], x_moon[:, 1]) "
   ]
  },
  {
   "cell_type": "markdown",
   "id": "9ab32b0b-f27d-4527-bbb0-72c97e77f04e",
   "metadata": {},
   "source": [
    "## Clutering by k-means"
   ]
  },
  {
   "cell_type": "markdown",
   "id": "e0a8ded6-69f6-4cfb-9a7f-a2850522423d",
   "metadata": {},
   "source": [
    "We can use the functions provided by the library scikit-learn to cluter the data."
   ]
  },
  {
   "cell_type": "markdown",
   "id": "61f66775-1ba5-4014-8fbb-a75eac693299",
   "metadata": {},
   "source": [
    "### Import libraries"
   ]
  },
  {
   "cell_type": "code",
   "execution_count": null,
   "id": "55d67f93-9838-4352-8258-6928e10cd7ba",
   "metadata": {},
   "outputs": [],
   "source": [
    "from sklearn.cluster import KMeans # import KMeans class from the sub-library cluster in scikit-learn"
   ]
  },
  {
   "cell_type": "markdown",
   "id": "ec78d0cc-1288-4bd7-b51f-b3631a986688",
   "metadata": {},
   "source": [
    "### Clustering for data in blobs"
   ]
  },
  {
   "cell_type": "code",
   "execution_count": null,
   "id": "91310f2c-979c-437f-9e24-79f5dfaed53e",
   "metadata": {},
   "outputs": [],
   "source": [
    "k = 3 # the number of clusters\n",
    "\n",
    "kmeans = KMeans(n_clusters=k) # initialize a worker which knows \"n_cluster\" (k) is 3. \n",
    "kmeans.fit(x_blob) # load data points and calculate the centroids (stored in \"kmeans\")\n",
    "\n",
    "# get the cluster which each data point should belong to (calculated by k_means)\n",
    "# Note: Function \"predict\" is to assign the data points to their nearest centroids. \n",
    "labels_blob = kmeans.predict(x_blob) \n",
    "\n",
    "plt.scatter(x_blob[:, 0], x_blob[:, 1], c=labels_blob)\n",
    "centers_blob = kmeans.cluster_centers_ # get the centroid\n",
    "plt.scatter(centers_blob[:, 0], centers_blob[:, 1], c='black', s=200, alpha=0.5) # \"s\" is the size of centroids in the graph, \"alpha\" is the opacity"
   ]
  },
  {
   "cell_type": "markdown",
   "id": "bba5079b-c2c8-4a74-b7f8-46b147a64d5a",
   "metadata": {},
   "source": [
    "### Clustering for data in moons"
   ]
  },
  {
   "cell_type": "markdown",
   "id": "70f3cc89-bc49-43b0-9ab8-9c0b62d377e4",
   "metadata": {},
   "source": [
    "However, kmeans does not work well for data points in non-convex shapes, such as data points in moons."
   ]
  },
  {
   "cell_type": "code",
   "execution_count": null,
   "id": "b7a3a4a0-e9b8-44e1-8912-ac843d65dfaf",
   "metadata": {},
   "outputs": [],
   "source": [
    "k = 2 # the number of clusters\n",
    "\n",
    "kmeans = KMeans(n_clusters=k) # initialize a worker which knows \"n_cluster\" (k) is 3. \n",
    "kmeans.fit(x_moon) # load data points and calculate the centroids (stored in \"kmeans\")\n",
    "\n",
    "# get the cluster which each data point should belong to (calculated by k_means)\n",
    "# Note: Function \"predict\" is to assign the data points to their nearest centroids. \n",
    "labels_moon = kmeans.predict(x_moon) \n",
    "\n",
    "plt.scatter(x_moon[:, 0], x_moon[:, 1], c=labels_moon) # generate the graph\n",
    "centers_moons = kmeans.cluster_centers_ # get the centroid\n",
    "# add centroids to the graph\n",
    "plt.scatter(centers_moons[:, 0], centers_moons[:, 1], c='black', s=200, alpha=0.5) # \"s\" is the size of centroids in the graph, \"alpha\" is the opacity"
   ]
  },
  {
   "cell_type": "markdown",
   "id": "4ff9e7cb-2dcf-4093-82f0-cac1293c7a93",
   "metadata": {},
   "source": [
    "## Clustering by DBSCAN"
   ]
  },
  {
   "cell_type": "markdown",
   "id": "0c7a88b7-9f35-42a8-aec2-fa016f474a40",
   "metadata": {},
   "source": [
    "DBSCAN can process data points in non-convex shapes very well."
   ]
  },
  {
   "cell_type": "markdown",
   "id": "768e6a94-e98e-492b-a029-97dad9f58231",
   "metadata": {},
   "source": [
    "### Import libraries"
   ]
  },
  {
   "cell_type": "code",
   "execution_count": null,
   "id": "8f5f4872-feeb-4bd2-b030-a124cd96cc5e",
   "metadata": {},
   "outputs": [],
   "source": [
    "from sklearn.cluster import DBSCAN # import DBSCAN class from the sub-library cluster in scikit-learn"
   ]
  },
  {
   "cell_type": "markdown",
   "id": "d25be55a-0c64-47de-9c3c-a185127cc891",
   "metadata": {},
   "source": [
    "### Clustering for data in moons"
   ]
  },
  {
   "cell_type": "code",
   "execution_count": null,
   "id": "61d8622d-8dc3-4611-9189-e7b52b4c7717",
   "metadata": {},
   "outputs": [],
   "source": [
    "dbscan = DBSCAN(eps=0.3, min_samples=5) # initialize a worker which knows \"eps\" is 0.3 and \"min_samples\" is 5. \n",
    "\n",
    "labels_moon_dbscan = dbscan.fit_predict(x_moon) # load the data points and assign the data points to their clusters\n",
    "plt.scatter(x_moon[:, 0], x_moon[:, 1], c=labels_moon_dbscan) # generate the graph"
   ]
  },
  {
   "cell_type": "code",
   "execution_count": null,
   "id": "80c1568a-e6bb-4a13-9d60-2f0e1ab5cbc3",
   "metadata": {},
   "outputs": [],
   "source": []
  }
 ],
 "metadata": {
  "kernelspec": {
   "display_name": "Python 3.10 venv(global)",
   "language": "python",
   "name": "py310env"
  },
  "language_info": {
   "codemirror_mode": {
    "name": "ipython",
    "version": 3
   },
   "file_extension": ".py",
   "mimetype": "text/x-python",
   "name": "python",
   "nbconvert_exporter": "python",
   "pygments_lexer": "ipython3",
   "version": "3.10.10"
  }
 },
 "nbformat": 4,
 "nbformat_minor": 5
}
